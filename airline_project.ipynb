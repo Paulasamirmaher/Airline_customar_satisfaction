{
 "cells": [
  {
   "cell_type": "code",
   "execution_count": 54,
   "id": "306feedf",
   "metadata": {},
   "outputs": [],
   "source": [
    "import pandas as pd\n",
    "import warnings\n",
    "warnings.simplefilter('ignore')\n",
    "from sklearn.preprocessing import OneHotEncoder\n",
    "from sklearn.preprocessing import StandardScaler\n",
    "from sklearn.preprocessing import minmax_scale\n",
    "from sklearn.model_selection import train_test_split\n",
    "from sklearn.linear_model import LogisticRegression\n",
    "from sklearn.metrics import accuracy_score\n",
    "from sklearn.ensemble import RandomForestClassifier\n",
    "from sklearn.neighbors import KNeighborsClassifier"
   ]
  },
  {
   "cell_type": "code",
   "execution_count": 2,
   "id": "749395be",
   "metadata": {},
   "outputs": [],
   "source": [
    "train_data=pd.read_csv('modified_tain.csv')"
   ]
  },
  {
   "cell_type": "code",
   "execution_count": 3,
   "id": "f386fc01",
   "metadata": {},
   "outputs": [
    {
     "data": {
      "text/html": [
       "<div>\n",
       "<style scoped>\n",
       "    .dataframe tbody tr th:only-of-type {\n",
       "        vertical-align: middle;\n",
       "    }\n",
       "\n",
       "    .dataframe tbody tr th {\n",
       "        vertical-align: top;\n",
       "    }\n",
       "\n",
       "    .dataframe thead th {\n",
       "        text-align: right;\n",
       "    }\n",
       "</style>\n",
       "<table border=\"1\" class=\"dataframe\">\n",
       "  <thead>\n",
       "    <tr style=\"text-align: right;\">\n",
       "      <th></th>\n",
       "      <th>id</th>\n",
       "      <th>Gender</th>\n",
       "      <th>Customer Type</th>\n",
       "      <th>Age</th>\n",
       "      <th>Type of Travel</th>\n",
       "      <th>Class</th>\n",
       "      <th>Flight Distance</th>\n",
       "      <th>Inflight wifi service</th>\n",
       "      <th>Departure/Arrival time convenient</th>\n",
       "      <th>Ease of Online booking</th>\n",
       "      <th>...</th>\n",
       "      <th>Inflight entertainment</th>\n",
       "      <th>On-board service</th>\n",
       "      <th>Leg room service</th>\n",
       "      <th>Baggage handling</th>\n",
       "      <th>Checkin service</th>\n",
       "      <th>Inflight service</th>\n",
       "      <th>Cleanliness</th>\n",
       "      <th>Departure Delay in Minutes</th>\n",
       "      <th>Arrival Delay in Minutes</th>\n",
       "      <th>satisfaction</th>\n",
       "    </tr>\n",
       "  </thead>\n",
       "  <tbody>\n",
       "    <tr>\n",
       "      <th>0</th>\n",
       "      <td>3862</td>\n",
       "      <td>Male</td>\n",
       "      <td>Loyal Customer</td>\n",
       "      <td>21</td>\n",
       "      <td>Business travel</td>\n",
       "      <td>Business</td>\n",
       "      <td>213</td>\n",
       "      <td>2</td>\n",
       "      <td>2</td>\n",
       "      <td>2</td>\n",
       "      <td>...</td>\n",
       "      <td>2</td>\n",
       "      <td>1</td>\n",
       "      <td>2</td>\n",
       "      <td>3</td>\n",
       "      <td>2</td>\n",
       "      <td>4</td>\n",
       "      <td>2</td>\n",
       "      <td>124</td>\n",
       "      <td>129.0</td>\n",
       "      <td>neutral or dissatisfied</td>\n",
       "    </tr>\n",
       "    <tr>\n",
       "      <th>1</th>\n",
       "      <td>26300</td>\n",
       "      <td>Male</td>\n",
       "      <td>Loyal Customer</td>\n",
       "      <td>44</td>\n",
       "      <td>Personal Travel</td>\n",
       "      <td>Eco</td>\n",
       "      <td>1199</td>\n",
       "      <td>2</td>\n",
       "      <td>4</td>\n",
       "      <td>2</td>\n",
       "      <td>...</td>\n",
       "      <td>3</td>\n",
       "      <td>3</td>\n",
       "      <td>4</td>\n",
       "      <td>4</td>\n",
       "      <td>2</td>\n",
       "      <td>3</td>\n",
       "      <td>3</td>\n",
       "      <td>0</td>\n",
       "      <td>2.0</td>\n",
       "      <td>neutral or dissatisfied</td>\n",
       "    </tr>\n",
       "    <tr>\n",
       "      <th>2</th>\n",
       "      <td>44192</td>\n",
       "      <td>Male</td>\n",
       "      <td>Loyal Customer</td>\n",
       "      <td>41</td>\n",
       "      <td>Business travel</td>\n",
       "      <td>Eco</td>\n",
       "      <td>157</td>\n",
       "      <td>4</td>\n",
       "      <td>2</td>\n",
       "      <td>2</td>\n",
       "      <td>...</td>\n",
       "      <td>4</td>\n",
       "      <td>3</td>\n",
       "      <td>1</td>\n",
       "      <td>4</td>\n",
       "      <td>1</td>\n",
       "      <td>4</td>\n",
       "      <td>4</td>\n",
       "      <td>0</td>\n",
       "      <td>0.0</td>\n",
       "      <td>satisfied</td>\n",
       "    </tr>\n",
       "    <tr>\n",
       "      <th>3</th>\n",
       "      <td>30041</td>\n",
       "      <td>Male</td>\n",
       "      <td>Loyal Customer</td>\n",
       "      <td>54</td>\n",
       "      <td>Business travel</td>\n",
       "      <td>Eco</td>\n",
       "      <td>213</td>\n",
       "      <td>2</td>\n",
       "      <td>4</td>\n",
       "      <td>4</td>\n",
       "      <td>...</td>\n",
       "      <td>4</td>\n",
       "      <td>5</td>\n",
       "      <td>4</td>\n",
       "      <td>3</td>\n",
       "      <td>2</td>\n",
       "      <td>2</td>\n",
       "      <td>2</td>\n",
       "      <td>172</td>\n",
       "      <td>168.0</td>\n",
       "      <td>neutral or dissatisfied</td>\n",
       "    </tr>\n",
       "    <tr>\n",
       "      <th>4</th>\n",
       "      <td>86605</td>\n",
       "      <td>Male</td>\n",
       "      <td>disloyal Customer</td>\n",
       "      <td>42</td>\n",
       "      <td>Business travel</td>\n",
       "      <td>Business</td>\n",
       "      <td>746</td>\n",
       "      <td>4</td>\n",
       "      <td>4</td>\n",
       "      <td>4</td>\n",
       "      <td>...</td>\n",
       "      <td>3</td>\n",
       "      <td>3</td>\n",
       "      <td>2</td>\n",
       "      <td>4</td>\n",
       "      <td>3</td>\n",
       "      <td>5</td>\n",
       "      <td>3</td>\n",
       "      <td>6</td>\n",
       "      <td>0.0</td>\n",
       "      <td>satisfied</td>\n",
       "    </tr>\n",
       "    <tr>\n",
       "      <th>...</th>\n",
       "      <td>...</td>\n",
       "      <td>...</td>\n",
       "      <td>...</td>\n",
       "      <td>...</td>\n",
       "      <td>...</td>\n",
       "      <td>...</td>\n",
       "      <td>...</td>\n",
       "      <td>...</td>\n",
       "      <td>...</td>\n",
       "      <td>...</td>\n",
       "      <td>...</td>\n",
       "      <td>...</td>\n",
       "      <td>...</td>\n",
       "      <td>...</td>\n",
       "      <td>...</td>\n",
       "      <td>...</td>\n",
       "      <td>...</td>\n",
       "      <td>...</td>\n",
       "      <td>...</td>\n",
       "      <td>...</td>\n",
       "      <td>...</td>\n",
       "    </tr>\n",
       "    <tr>\n",
       "      <th>83118</th>\n",
       "      <td>115588</td>\n",
       "      <td>Male</td>\n",
       "      <td>Loyal Customer</td>\n",
       "      <td>46</td>\n",
       "      <td>Business travel</td>\n",
       "      <td>Eco</td>\n",
       "      <td>337</td>\n",
       "      <td>2</td>\n",
       "      <td>3</td>\n",
       "      <td>3</td>\n",
       "      <td>...</td>\n",
       "      <td>2</td>\n",
       "      <td>1</td>\n",
       "      <td>2</td>\n",
       "      <td>4</td>\n",
       "      <td>1</td>\n",
       "      <td>3</td>\n",
       "      <td>2</td>\n",
       "      <td>0</td>\n",
       "      <td>6.0</td>\n",
       "      <td>neutral or dissatisfied</td>\n",
       "    </tr>\n",
       "    <tr>\n",
       "      <th>83119</th>\n",
       "      <td>28142</td>\n",
       "      <td>Male</td>\n",
       "      <td>disloyal Customer</td>\n",
       "      <td>23</td>\n",
       "      <td>Business travel</td>\n",
       "      <td>Eco</td>\n",
       "      <td>859</td>\n",
       "      <td>3</td>\n",
       "      <td>3</td>\n",
       "      <td>3</td>\n",
       "      <td>...</td>\n",
       "      <td>2</td>\n",
       "      <td>4</td>\n",
       "      <td>5</td>\n",
       "      <td>3</td>\n",
       "      <td>4</td>\n",
       "      <td>3</td>\n",
       "      <td>2</td>\n",
       "      <td>0</td>\n",
       "      <td>0.0</td>\n",
       "      <td>neutral or dissatisfied</td>\n",
       "    </tr>\n",
       "    <tr>\n",
       "      <th>83120</th>\n",
       "      <td>25944</td>\n",
       "      <td>Male</td>\n",
       "      <td>Loyal Customer</td>\n",
       "      <td>38</td>\n",
       "      <td>Personal Travel</td>\n",
       "      <td>Eco Plus</td>\n",
       "      <td>594</td>\n",
       "      <td>2</td>\n",
       "      <td>2</td>\n",
       "      <td>2</td>\n",
       "      <td>...</td>\n",
       "      <td>4</td>\n",
       "      <td>4</td>\n",
       "      <td>4</td>\n",
       "      <td>4</td>\n",
       "      <td>2</td>\n",
       "      <td>3</td>\n",
       "      <td>4</td>\n",
       "      <td>32</td>\n",
       "      <td>24.0</td>\n",
       "      <td>neutral or dissatisfied</td>\n",
       "    </tr>\n",
       "    <tr>\n",
       "      <th>83121</th>\n",
       "      <td>9790</td>\n",
       "      <td>Female</td>\n",
       "      <td>Loyal Customer</td>\n",
       "      <td>20</td>\n",
       "      <td>Personal Travel</td>\n",
       "      <td>Eco</td>\n",
       "      <td>382</td>\n",
       "      <td>5</td>\n",
       "      <td>5</td>\n",
       "      <td>5</td>\n",
       "      <td>...</td>\n",
       "      <td>4</td>\n",
       "      <td>3</td>\n",
       "      <td>3</td>\n",
       "      <td>4</td>\n",
       "      <td>4</td>\n",
       "      <td>4</td>\n",
       "      <td>4</td>\n",
       "      <td>0</td>\n",
       "      <td>0.0</td>\n",
       "      <td>satisfied</td>\n",
       "    </tr>\n",
       "    <tr>\n",
       "      <th>83122</th>\n",
       "      <td>117217</td>\n",
       "      <td>Male</td>\n",
       "      <td>Loyal Customer</td>\n",
       "      <td>62</td>\n",
       "      <td>Personal Travel</td>\n",
       "      <td>Eco</td>\n",
       "      <td>304</td>\n",
       "      <td>4</td>\n",
       "      <td>5</td>\n",
       "      <td>4</td>\n",
       "      <td>...</td>\n",
       "      <td>2</td>\n",
       "      <td>3</td>\n",
       "      <td>2</td>\n",
       "      <td>4</td>\n",
       "      <td>3</td>\n",
       "      <td>4</td>\n",
       "      <td>2</td>\n",
       "      <td>0</td>\n",
       "      <td>0.0</td>\n",
       "      <td>neutral or dissatisfied</td>\n",
       "    </tr>\n",
       "  </tbody>\n",
       "</table>\n",
       "<p>83123 rows × 24 columns</p>\n",
       "</div>"
      ],
      "text/plain": [
       "           id  Gender      Customer Type  Age   Type of Travel     Class  \\\n",
       "0        3862    Male     Loyal Customer   21  Business travel  Business   \n",
       "1       26300    Male     Loyal Customer   44  Personal Travel       Eco   \n",
       "2       44192    Male     Loyal Customer   41  Business travel       Eco   \n",
       "3       30041    Male     Loyal Customer   54  Business travel       Eco   \n",
       "4       86605    Male  disloyal Customer   42  Business travel  Business   \n",
       "...       ...     ...                ...  ...              ...       ...   \n",
       "83118  115588    Male     Loyal Customer   46  Business travel       Eco   \n",
       "83119   28142    Male  disloyal Customer   23  Business travel       Eco   \n",
       "83120   25944    Male     Loyal Customer   38  Personal Travel  Eco Plus   \n",
       "83121    9790  Female     Loyal Customer   20  Personal Travel       Eco   \n",
       "83122  117217    Male     Loyal Customer   62  Personal Travel       Eco   \n",
       "\n",
       "       Flight Distance  Inflight wifi service  \\\n",
       "0                  213                      2   \n",
       "1                 1199                      2   \n",
       "2                  157                      4   \n",
       "3                  213                      2   \n",
       "4                  746                      4   \n",
       "...                ...                    ...   \n",
       "83118              337                      2   \n",
       "83119              859                      3   \n",
       "83120              594                      2   \n",
       "83121              382                      5   \n",
       "83122              304                      4   \n",
       "\n",
       "       Departure/Arrival time convenient  Ease of Online booking  ...  \\\n",
       "0                                      2                       2  ...   \n",
       "1                                      4                       2  ...   \n",
       "2                                      2                       2  ...   \n",
       "3                                      4                       4  ...   \n",
       "4                                      4                       4  ...   \n",
       "...                                  ...                     ...  ...   \n",
       "83118                                  3                       3  ...   \n",
       "83119                                  3                       3  ...   \n",
       "83120                                  2                       2  ...   \n",
       "83121                                  5                       5  ...   \n",
       "83122                                  5                       4  ...   \n",
       "\n",
       "       Inflight entertainment  On-board service  Leg room service  \\\n",
       "0                           2                 1                 2   \n",
       "1                           3                 3                 4   \n",
       "2                           4                 3                 1   \n",
       "3                           4                 5                 4   \n",
       "4                           3                 3                 2   \n",
       "...                       ...               ...               ...   \n",
       "83118                       2                 1                 2   \n",
       "83119                       2                 4                 5   \n",
       "83120                       4                 4                 4   \n",
       "83121                       4                 3                 3   \n",
       "83122                       2                 3                 2   \n",
       "\n",
       "       Baggage handling  Checkin service  Inflight service  Cleanliness  \\\n",
       "0                     3                2                 4            2   \n",
       "1                     4                2                 3            3   \n",
       "2                     4                1                 4            4   \n",
       "3                     3                2                 2            2   \n",
       "4                     4                3                 5            3   \n",
       "...                 ...              ...               ...          ...   \n",
       "83118                 4                1                 3            2   \n",
       "83119                 3                4                 3            2   \n",
       "83120                 4                2                 3            4   \n",
       "83121                 4                4                 4            4   \n",
       "83122                 4                3                 4            2   \n",
       "\n",
       "       Departure Delay in Minutes  Arrival Delay in Minutes  \\\n",
       "0                             124                     129.0   \n",
       "1                               0                       2.0   \n",
       "2                               0                       0.0   \n",
       "3                             172                     168.0   \n",
       "4                               6                       0.0   \n",
       "...                           ...                       ...   \n",
       "83118                           0                       6.0   \n",
       "83119                           0                       0.0   \n",
       "83120                          32                      24.0   \n",
       "83121                           0                       0.0   \n",
       "83122                           0                       0.0   \n",
       "\n",
       "                  satisfaction  \n",
       "0      neutral or dissatisfied  \n",
       "1      neutral or dissatisfied  \n",
       "2                    satisfied  \n",
       "3      neutral or dissatisfied  \n",
       "4                    satisfied  \n",
       "...                        ...  \n",
       "83118  neutral or dissatisfied  \n",
       "83119  neutral or dissatisfied  \n",
       "83120  neutral or dissatisfied  \n",
       "83121                satisfied  \n",
       "83122  neutral or dissatisfied  \n",
       "\n",
       "[83123 rows x 24 columns]"
      ]
     },
     "execution_count": 3,
     "metadata": {},
     "output_type": "execute_result"
    }
   ],
   "source": [
    "train_data"
   ]
  },
  {
   "cell_type": "code",
   "execution_count": 4,
   "id": "b638db53",
   "metadata": {},
   "outputs": [],
   "source": [
    "test_data=pd.read_csv('modified_test2.csv')"
   ]
  },
  {
   "cell_type": "code",
   "execution_count": 5,
   "id": "58940bfb",
   "metadata": {},
   "outputs": [
    {
     "data": {
      "text/html": [
       "<div>\n",
       "<style scoped>\n",
       "    .dataframe tbody tr th:only-of-type {\n",
       "        vertical-align: middle;\n",
       "    }\n",
       "\n",
       "    .dataframe tbody tr th {\n",
       "        vertical-align: top;\n",
       "    }\n",
       "\n",
       "    .dataframe thead th {\n",
       "        text-align: right;\n",
       "    }\n",
       "</style>\n",
       "<table border=\"1\" class=\"dataframe\">\n",
       "  <thead>\n",
       "    <tr style=\"text-align: right;\">\n",
       "      <th></th>\n",
       "      <th>Unnamed: 0</th>\n",
       "      <th>id</th>\n",
       "      <th>Gender</th>\n",
       "      <th>Customer Type</th>\n",
       "      <th>Age</th>\n",
       "      <th>Type of Travel</th>\n",
       "      <th>Class</th>\n",
       "      <th>Flight Distance</th>\n",
       "      <th>Inflight wifi service</th>\n",
       "      <th>Departure/Arrival time convenient</th>\n",
       "      <th>...</th>\n",
       "      <th>Inflight entertainment</th>\n",
       "      <th>On-board service</th>\n",
       "      <th>Leg room service</th>\n",
       "      <th>Baggage handling</th>\n",
       "      <th>Checkin service</th>\n",
       "      <th>Inflight service</th>\n",
       "      <th>Cleanliness</th>\n",
       "      <th>Departure Delay in Minutes</th>\n",
       "      <th>Arrival Delay in Minutes</th>\n",
       "      <th>satisfaction</th>\n",
       "    </tr>\n",
       "  </thead>\n",
       "  <tbody>\n",
       "    <tr>\n",
       "      <th>0</th>\n",
       "      <td>0</td>\n",
       "      <td>74904</td>\n",
       "      <td>Male</td>\n",
       "      <td>Loyal Customer</td>\n",
       "      <td>55</td>\n",
       "      <td>Business travel</td>\n",
       "      <td>Business</td>\n",
       "      <td>2475</td>\n",
       "      <td>5</td>\n",
       "      <td>2</td>\n",
       "      <td>...</td>\n",
       "      <td>5</td>\n",
       "      <td>5</td>\n",
       "      <td>5</td>\n",
       "      <td>5</td>\n",
       "      <td>4</td>\n",
       "      <td>5</td>\n",
       "      <td>4</td>\n",
       "      <td>0</td>\n",
       "      <td>0.0</td>\n",
       "      <td>satisfied</td>\n",
       "    </tr>\n",
       "    <tr>\n",
       "      <th>1</th>\n",
       "      <td>1</td>\n",
       "      <td>33555</td>\n",
       "      <td>Female</td>\n",
       "      <td>Loyal Customer</td>\n",
       "      <td>47</td>\n",
       "      <td>Business travel</td>\n",
       "      <td>Business</td>\n",
       "      <td>4000</td>\n",
       "      <td>2</td>\n",
       "      <td>2</td>\n",
       "      <td>...</td>\n",
       "      <td>5</td>\n",
       "      <td>5</td>\n",
       "      <td>5</td>\n",
       "      <td>5</td>\n",
       "      <td>5</td>\n",
       "      <td>5</td>\n",
       "      <td>2</td>\n",
       "      <td>0</td>\n",
       "      <td>0.0</td>\n",
       "      <td>satisfied</td>\n",
       "    </tr>\n",
       "    <tr>\n",
       "      <th>2</th>\n",
       "      <td>2</td>\n",
       "      <td>115269</td>\n",
       "      <td>Female</td>\n",
       "      <td>Loyal Customer</td>\n",
       "      <td>51</td>\n",
       "      <td>Business travel</td>\n",
       "      <td>Business</td>\n",
       "      <td>1821</td>\n",
       "      <td>2</td>\n",
       "      <td>2</td>\n",
       "      <td>...</td>\n",
       "      <td>5</td>\n",
       "      <td>5</td>\n",
       "      <td>5</td>\n",
       "      <td>5</td>\n",
       "      <td>3</td>\n",
       "      <td>5</td>\n",
       "      <td>5</td>\n",
       "      <td>11</td>\n",
       "      <td>9.0</td>\n",
       "      <td>satisfied</td>\n",
       "    </tr>\n",
       "    <tr>\n",
       "      <th>3</th>\n",
       "      <td>3</td>\n",
       "      <td>111999</td>\n",
       "      <td>Female</td>\n",
       "      <td>disloyal Customer</td>\n",
       "      <td>23</td>\n",
       "      <td>Business travel</td>\n",
       "      <td>Eco</td>\n",
       "      <td>533</td>\n",
       "      <td>4</td>\n",
       "      <td>4</td>\n",
       "      <td>...</td>\n",
       "      <td>3</td>\n",
       "      <td>3</td>\n",
       "      <td>3</td>\n",
       "      <td>5</td>\n",
       "      <td>3</td>\n",
       "      <td>4</td>\n",
       "      <td>3</td>\n",
       "      <td>71</td>\n",
       "      <td>65.0</td>\n",
       "      <td>satisfied</td>\n",
       "    </tr>\n",
       "    <tr>\n",
       "      <th>4</th>\n",
       "      <td>4</td>\n",
       "      <td>127449</td>\n",
       "      <td>Female</td>\n",
       "      <td>Loyal Customer</td>\n",
       "      <td>31</td>\n",
       "      <td>Business travel</td>\n",
       "      <td>Business</td>\n",
       "      <td>2075</td>\n",
       "      <td>2</td>\n",
       "      <td>2</td>\n",
       "      <td>...</td>\n",
       "      <td>4</td>\n",
       "      <td>4</td>\n",
       "      <td>4</td>\n",
       "      <td>5</td>\n",
       "      <td>4</td>\n",
       "      <td>5</td>\n",
       "      <td>4</td>\n",
       "      <td>32</td>\n",
       "      <td>18.0</td>\n",
       "      <td>satisfied</td>\n",
       "    </tr>\n",
       "    <tr>\n",
       "      <th>...</th>\n",
       "      <td>...</td>\n",
       "      <td>...</td>\n",
       "      <td>...</td>\n",
       "      <td>...</td>\n",
       "      <td>...</td>\n",
       "      <td>...</td>\n",
       "      <td>...</td>\n",
       "      <td>...</td>\n",
       "      <td>...</td>\n",
       "      <td>...</td>\n",
       "      <td>...</td>\n",
       "      <td>...</td>\n",
       "      <td>...</td>\n",
       "      <td>...</td>\n",
       "      <td>...</td>\n",
       "      <td>...</td>\n",
       "      <td>...</td>\n",
       "      <td>...</td>\n",
       "      <td>...</td>\n",
       "      <td>...</td>\n",
       "      <td>...</td>\n",
       "    </tr>\n",
       "    <tr>\n",
       "      <th>18129</th>\n",
       "      <td>18129</td>\n",
       "      <td>45487</td>\n",
       "      <td>Male</td>\n",
       "      <td>disloyal Customer</td>\n",
       "      <td>23</td>\n",
       "      <td>Business travel</td>\n",
       "      <td>Eco</td>\n",
       "      <td>187</td>\n",
       "      <td>1</td>\n",
       "      <td>3</td>\n",
       "      <td>...</td>\n",
       "      <td>2</td>\n",
       "      <td>1</td>\n",
       "      <td>3</td>\n",
       "      <td>3</td>\n",
       "      <td>1</td>\n",
       "      <td>3</td>\n",
       "      <td>2</td>\n",
       "      <td>34</td>\n",
       "      <td>36.0</td>\n",
       "      <td>neutral or dissatisfied</td>\n",
       "    </tr>\n",
       "    <tr>\n",
       "      <th>18130</th>\n",
       "      <td>18130</td>\n",
       "      <td>112544</td>\n",
       "      <td>Male</td>\n",
       "      <td>disloyal Customer</td>\n",
       "      <td>38</td>\n",
       "      <td>Business travel</td>\n",
       "      <td>Business</td>\n",
       "      <td>862</td>\n",
       "      <td>2</td>\n",
       "      <td>2</td>\n",
       "      <td>...</td>\n",
       "      <td>3</td>\n",
       "      <td>5</td>\n",
       "      <td>4</td>\n",
       "      <td>4</td>\n",
       "      <td>3</td>\n",
       "      <td>4</td>\n",
       "      <td>3</td>\n",
       "      <td>11</td>\n",
       "      <td>0.0</td>\n",
       "      <td>neutral or dissatisfied</td>\n",
       "    </tr>\n",
       "    <tr>\n",
       "      <th>18131</th>\n",
       "      <td>18131</td>\n",
       "      <td>74497</td>\n",
       "      <td>Female</td>\n",
       "      <td>Loyal Customer</td>\n",
       "      <td>36</td>\n",
       "      <td>Business travel</td>\n",
       "      <td>Business</td>\n",
       "      <td>1431</td>\n",
       "      <td>5</td>\n",
       "      <td>5</td>\n",
       "      <td>...</td>\n",
       "      <td>2</td>\n",
       "      <td>2</td>\n",
       "      <td>2</td>\n",
       "      <td>2</td>\n",
       "      <td>3</td>\n",
       "      <td>2</td>\n",
       "      <td>3</td>\n",
       "      <td>21</td>\n",
       "      <td>12.0</td>\n",
       "      <td>satisfied</td>\n",
       "    </tr>\n",
       "    <tr>\n",
       "      <th>18132</th>\n",
       "      <td>18132</td>\n",
       "      <td>98840</td>\n",
       "      <td>Male</td>\n",
       "      <td>Loyal Customer</td>\n",
       "      <td>35</td>\n",
       "      <td>Personal Travel</td>\n",
       "      <td>Eco</td>\n",
       "      <td>444</td>\n",
       "      <td>0</td>\n",
       "      <td>4</td>\n",
       "      <td>...</td>\n",
       "      <td>2</td>\n",
       "      <td>5</td>\n",
       "      <td>4</td>\n",
       "      <td>4</td>\n",
       "      <td>4</td>\n",
       "      <td>5</td>\n",
       "      <td>2</td>\n",
       "      <td>2</td>\n",
       "      <td>3.0</td>\n",
       "      <td>satisfied</td>\n",
       "    </tr>\n",
       "    <tr>\n",
       "      <th>18133</th>\n",
       "      <td>18133</td>\n",
       "      <td>34749</td>\n",
       "      <td>Male</td>\n",
       "      <td>Loyal Customer</td>\n",
       "      <td>45</td>\n",
       "      <td>Business travel</td>\n",
       "      <td>Business</td>\n",
       "      <td>209</td>\n",
       "      <td>1</td>\n",
       "      <td>1</td>\n",
       "      <td>...</td>\n",
       "      <td>4</td>\n",
       "      <td>4</td>\n",
       "      <td>4</td>\n",
       "      <td>4</td>\n",
       "      <td>1</td>\n",
       "      <td>4</td>\n",
       "      <td>4</td>\n",
       "      <td>2</td>\n",
       "      <td>0.0</td>\n",
       "      <td>satisfied</td>\n",
       "    </tr>\n",
       "  </tbody>\n",
       "</table>\n",
       "<p>18134 rows × 25 columns</p>\n",
       "</div>"
      ],
      "text/plain": [
       "       Unnamed: 0      id  Gender      Customer Type  Age   Type of Travel  \\\n",
       "0               0   74904    Male     Loyal Customer   55  Business travel   \n",
       "1               1   33555  Female     Loyal Customer   47  Business travel   \n",
       "2               2  115269  Female     Loyal Customer   51  Business travel   \n",
       "3               3  111999  Female  disloyal Customer   23  Business travel   \n",
       "4               4  127449  Female     Loyal Customer   31  Business travel   \n",
       "...           ...     ...     ...                ...  ...              ...   \n",
       "18129       18129   45487    Male  disloyal Customer   23  Business travel   \n",
       "18130       18130  112544    Male  disloyal Customer   38  Business travel   \n",
       "18131       18131   74497  Female     Loyal Customer   36  Business travel   \n",
       "18132       18132   98840    Male     Loyal Customer   35  Personal Travel   \n",
       "18133       18133   34749    Male     Loyal Customer   45  Business travel   \n",
       "\n",
       "          Class  Flight Distance  Inflight wifi service  \\\n",
       "0      Business             2475                      5   \n",
       "1      Business             4000                      2   \n",
       "2      Business             1821                      2   \n",
       "3           Eco              533                      4   \n",
       "4      Business             2075                      2   \n",
       "...         ...              ...                    ...   \n",
       "18129       Eco              187                      1   \n",
       "18130  Business              862                      2   \n",
       "18131  Business             1431                      5   \n",
       "18132       Eco              444                      0   \n",
       "18133  Business              209                      1   \n",
       "\n",
       "       Departure/Arrival time convenient  ...  Inflight entertainment  \\\n",
       "0                                      2  ...                       5   \n",
       "1                                      2  ...                       5   \n",
       "2                                      2  ...                       5   \n",
       "3                                      4  ...                       3   \n",
       "4                                      2  ...                       4   \n",
       "...                                  ...  ...                     ...   \n",
       "18129                                  3  ...                       2   \n",
       "18130                                  2  ...                       3   \n",
       "18131                                  5  ...                       2   \n",
       "18132                                  4  ...                       2   \n",
       "18133                                  1  ...                       4   \n",
       "\n",
       "       On-board service  Leg room service  Baggage handling  Checkin service  \\\n",
       "0                     5                 5                 5                4   \n",
       "1                     5                 5                 5                5   \n",
       "2                     5                 5                 5                3   \n",
       "3                     3                 3                 5                3   \n",
       "4                     4                 4                 5                4   \n",
       "...                 ...               ...               ...              ...   \n",
       "18129                 1                 3                 3                1   \n",
       "18130                 5                 4                 4                3   \n",
       "18131                 2                 2                 2                3   \n",
       "18132                 5                 4                 4                4   \n",
       "18133                 4                 4                 4                1   \n",
       "\n",
       "       Inflight service  Cleanliness  Departure Delay in Minutes  \\\n",
       "0                     5            4                           0   \n",
       "1                     5            2                           0   \n",
       "2                     5            5                          11   \n",
       "3                     4            3                          71   \n",
       "4                     5            4                          32   \n",
       "...                 ...          ...                         ...   \n",
       "18129                 3            2                          34   \n",
       "18130                 4            3                          11   \n",
       "18131                 2            3                          21   \n",
       "18132                 5            2                           2   \n",
       "18133                 4            4                           2   \n",
       "\n",
       "       Arrival Delay in Minutes             satisfaction  \n",
       "0                           0.0                satisfied  \n",
       "1                           0.0                satisfied  \n",
       "2                           9.0                satisfied  \n",
       "3                          65.0                satisfied  \n",
       "4                          18.0                satisfied  \n",
       "...                         ...                      ...  \n",
       "18129                      36.0  neutral or dissatisfied  \n",
       "18130                       0.0  neutral or dissatisfied  \n",
       "18131                      12.0                satisfied  \n",
       "18132                       3.0                satisfied  \n",
       "18133                       0.0                satisfied  \n",
       "\n",
       "[18134 rows x 25 columns]"
      ]
     },
     "execution_count": 5,
     "metadata": {},
     "output_type": "execute_result"
    }
   ],
   "source": [
    "test_data"
   ]
  },
  {
   "cell_type": "code",
   "execution_count": 6,
   "id": "9a1c336f",
   "metadata": {
    "scrolled": true
   },
   "outputs": [
    {
     "data": {
      "text/plain": [
       "id                                     0\n",
       "Gender                                 0\n",
       "Customer Type                          0\n",
       "Age                                    0\n",
       "Type of Travel                         0\n",
       "Class                                  0\n",
       "Flight Distance                        0\n",
       "Inflight wifi service                  0\n",
       "Departure/Arrival time convenient      0\n",
       "Ease of Online booking                 0\n",
       "Gate location                          0\n",
       "Food and drink                         0\n",
       "Online boarding                        0\n",
       "Seat comfort                           0\n",
       "Inflight entertainment                 0\n",
       "On-board service                       0\n",
       "Leg room service                       0\n",
       "Baggage handling                       0\n",
       "Checkin service                        0\n",
       "Inflight service                       0\n",
       "Cleanliness                            0\n",
       "Departure Delay in Minutes             0\n",
       "Arrival Delay in Minutes             254\n",
       "satisfaction                           0\n",
       "dtype: int64"
      ]
     },
     "execution_count": 6,
     "metadata": {},
     "output_type": "execute_result"
    }
   ],
   "source": [
    "train_data.isna().sum()"
   ]
  },
  {
   "cell_type": "code",
   "execution_count": 7,
   "id": "7a865f36",
   "metadata": {},
   "outputs": [
    {
     "data": {
      "text/plain": [
       "Unnamed: 0                           0\n",
       "id                                   0\n",
       "Gender                               0\n",
       "Customer Type                        0\n",
       "Age                                  0\n",
       "Type of Travel                       0\n",
       "Class                                0\n",
       "Flight Distance                      0\n",
       "Inflight wifi service                0\n",
       "Departure/Arrival time convenient    0\n",
       "Ease of Online booking               0\n",
       "Gate location                        0\n",
       "Food and drink                       0\n",
       "Online boarding                      0\n",
       "Seat comfort                         0\n",
       "Inflight entertainment               0\n",
       "On-board service                     0\n",
       "Leg room service                     0\n",
       "Baggage handling                     0\n",
       "Checkin service                      0\n",
       "Inflight service                     0\n",
       "Cleanliness                          0\n",
       "Departure Delay in Minutes           0\n",
       "Arrival Delay in Minutes             0\n",
       "satisfaction                         0\n",
       "dtype: int64"
      ]
     },
     "execution_count": 7,
     "metadata": {},
     "output_type": "execute_result"
    }
   ],
   "source": [
    "test_data.isna().sum()"
   ]
  },
  {
   "cell_type": "code",
   "execution_count": 8,
   "id": "37d3fef1",
   "metadata": {},
   "outputs": [
    {
     "data": {
      "text/plain": [
       "array(['neutral or dissatisfied', 'satisfied'], dtype=object)"
      ]
     },
     "execution_count": 8,
     "metadata": {},
     "output_type": "execute_result"
    }
   ],
   "source": [
    "train_data.satisfaction.unique()"
   ]
  },
  {
   "cell_type": "code",
   "execution_count": 9,
   "id": "bee4820d",
   "metadata": {},
   "outputs": [
    {
     "data": {
      "text/plain": [
       "17.305882352941175"
      ]
     },
     "execution_count": 9,
     "metadata": {},
     "output_type": "execute_result"
    }
   ],
   "source": [
    "train_data[(train_data['satisfaction']=='neutral or dissatisfied')].mean()['Arrival Delay in Minutes']"
   ]
  },
  {
   "cell_type": "code",
   "execution_count": 10,
   "id": "504b0e2e",
   "metadata": {},
   "outputs": [
    {
     "data": {
      "text/plain": [
       "12.557020968101718"
      ]
     },
     "execution_count": 10,
     "metadata": {},
     "output_type": "execute_result"
    }
   ],
   "source": [
    "train_data[(train_data['satisfaction']=='satisfied')].mean()['Arrival Delay in Minutes']"
   ]
  },
  {
   "cell_type": "code",
   "execution_count": 11,
   "id": "8edf9237",
   "metadata": {},
   "outputs": [
    {
     "data": {
      "text/plain": [
       "(id                                   47157\n",
       " Gender                               47157\n",
       " Customer Type                        47157\n",
       " Age                                  47157\n",
       " Type of Travel                       47157\n",
       " Class                                47157\n",
       " Flight Distance                      47157\n",
       " Inflight wifi service                47157\n",
       " Departure/Arrival time convenient    47157\n",
       " Ease of Online booking               47157\n",
       " Gate location                        47157\n",
       " Food and drink                       47157\n",
       " Online boarding                      47157\n",
       " Seat comfort                         47157\n",
       " Inflight entertainment               47157\n",
       " On-board service                     47157\n",
       " Leg room service                     47157\n",
       " Baggage handling                     47157\n",
       " Checkin service                      47157\n",
       " Inflight service                     47157\n",
       " Cleanliness                          47157\n",
       " Departure Delay in Minutes           47157\n",
       " Arrival Delay in Minutes             47005\n",
       " satisfaction                         47157\n",
       " dtype: int64,\n",
       " id                                   35966\n",
       " Gender                               35966\n",
       " Customer Type                        35966\n",
       " Age                                  35966\n",
       " Type of Travel                       35966\n",
       " Class                                35966\n",
       " Flight Distance                      35966\n",
       " Inflight wifi service                35966\n",
       " Departure/Arrival time convenient    35966\n",
       " Ease of Online booking               35966\n",
       " Gate location                        35966\n",
       " Food and drink                       35966\n",
       " Online boarding                      35966\n",
       " Seat comfort                         35966\n",
       " Inflight entertainment               35966\n",
       " On-board service                     35966\n",
       " Leg room service                     35966\n",
       " Baggage handling                     35966\n",
       " Checkin service                      35966\n",
       " Inflight service                     35966\n",
       " Cleanliness                          35966\n",
       " Departure Delay in Minutes           35966\n",
       " Arrival Delay in Minutes             35864\n",
       " satisfaction                         35966\n",
       " dtype: int64)"
      ]
     },
     "execution_count": 11,
     "metadata": {},
     "output_type": "execute_result"
    }
   ],
   "source": [
    "train_data[(train_data['satisfaction']=='neutral or dissatisfied')].count(),train_data[(train_data['satisfaction']=='satisfied')].count()"
   ]
  },
  {
   "cell_type": "code",
   "execution_count": 12,
   "id": "9bdf2378",
   "metadata": {},
   "outputs": [
    {
     "data": {
      "text/plain": [
       "15.250672748554948"
      ]
     },
     "execution_count": 12,
     "metadata": {},
     "output_type": "execute_result"
    }
   ],
   "source": [
    "train_data['Arrival Delay in Minutes'].mean()"
   ]
  },
  {
   "cell_type": "code",
   "execution_count": 13,
   "id": "7dc461bb",
   "metadata": {},
   "outputs": [],
   "source": [
    "train_data['Arrival Delay in Minutes'].fillna(train_data['Arrival Delay in Minutes'].mean(),inplace=True)"
   ]
  },
  {
   "cell_type": "code",
   "execution_count": 14,
   "id": "73b6a91a",
   "metadata": {},
   "outputs": [
    {
     "data": {
      "text/plain": [
       "(0, 0)"
      ]
     },
     "execution_count": 14,
     "metadata": {},
     "output_type": "execute_result"
    }
   ],
   "source": [
    "## check the duplicated\n",
    "train_data.duplicated().sum(),test_data.duplicated().sum()"
   ]
  },
  {
   "cell_type": "markdown",
   "id": "bf6b0595",
   "metadata": {},
   "source": [
    "#### dropping the useless columns"
   ]
  },
  {
   "cell_type": "code",
   "execution_count": 15,
   "id": "1118c111",
   "metadata": {},
   "outputs": [],
   "source": [
    "train_data.drop(['id'],axis=1,inplace=True)"
   ]
  },
  {
   "cell_type": "code",
   "execution_count": 16,
   "id": "322249fb",
   "metadata": {},
   "outputs": [],
   "source": [
    "test_data.drop(['id','Unnamed: 0'],axis=1,inplace=True)"
   ]
  },
  {
   "cell_type": "code",
   "execution_count": 17,
   "id": "6a98f292",
   "metadata": {},
   "outputs": [],
   "source": [
    "train_data=pd.get_dummies(train_data,columns=['Gender','Customer Type','Type of Travel','Class'])"
   ]
  },
  {
   "cell_type": "code",
   "execution_count": 33,
   "id": "6da08de1",
   "metadata": {},
   "outputs": [],
   "source": [
    "test_data=pd.get_dummies(test_data,columns=['Gender','Customer Type','Type of Travel','Class'])"
   ]
  },
  {
   "cell_type": "code",
   "execution_count": 34,
   "id": "6f61254e",
   "metadata": {},
   "outputs": [],
   "source": [
    "x_train=train_data.drop('satisfaction', axis=1)"
   ]
  },
  {
   "cell_type": "code",
   "execution_count": 35,
   "id": "dbf2698c",
   "metadata": {},
   "outputs": [],
   "source": [
    "y_train=train_data['satisfaction']"
   ]
  },
  {
   "cell_type": "code",
   "execution_count": 36,
   "id": "3eccd2e7",
   "metadata": {},
   "outputs": [],
   "source": [
    "x_test=test_data.drop('satisfaction',axis=1)\n",
    "y_test=test_data['satisfaction']"
   ]
  },
  {
   "cell_type": "code",
   "execution_count": 37,
   "id": "07519384",
   "metadata": {},
   "outputs": [],
   "source": [
    "scale=StandardScaler()"
   ]
  },
  {
   "cell_type": "code",
   "execution_count": 38,
   "id": "12ad8602",
   "metadata": {},
   "outputs": [],
   "source": [
    "scale_x_train=scale.fit_transform(x_train)\n",
    "scale_x_test=scale.transform(x_test)"
   ]
  },
  {
   "cell_type": "markdown",
   "id": "f778def7",
   "metadata": {},
   "source": [
    "### LogisticRegression"
   ]
  },
  {
   "cell_type": "code",
   "execution_count": 39,
   "id": "b30d075d",
   "metadata": {},
   "outputs": [],
   "source": [
    "LR=LogisticRegression(random_state=16,penalty='l1',solver='liblinear')"
   ]
  },
  {
   "cell_type": "code",
   "execution_count": 43,
   "id": "f5158a1f",
   "metadata": {},
   "outputs": [
    {
     "data": {
      "text/plain": [
       "LogisticRegression(penalty='l1', random_state=16, solver='liblinear')"
      ]
     },
     "execution_count": 43,
     "metadata": {},
     "output_type": "execute_result"
    }
   ],
   "source": [
    "LR.fit(scale_x_train,y_train)"
   ]
  },
  {
   "cell_type": "code",
   "execution_count": 44,
   "id": "3a452231",
   "metadata": {},
   "outputs": [],
   "source": [
    "y_pred=LR.predict(scale_x_test)"
   ]
  },
  {
   "cell_type": "code",
   "execution_count": 45,
   "id": "551af795",
   "metadata": {},
   "outputs": [
    {
     "data": {
      "text/plain": [
       "0.8707400463218264"
      ]
     },
     "execution_count": 45,
     "metadata": {},
     "output_type": "execute_result"
    }
   ],
   "source": [
    "accuracy_score(y_pred,y_test)"
   ]
  },
  {
   "cell_type": "markdown",
   "id": "af23afd5",
   "metadata": {},
   "source": [
    "### Random Forest model "
   ]
  },
  {
   "cell_type": "code",
   "execution_count": 47,
   "id": "7fc5b429",
   "metadata": {},
   "outputs": [],
   "source": [
    "classifier=RandomForestClassifier(n_estimators=100,criterion='entropy')"
   ]
  },
  {
   "cell_type": "code",
   "execution_count": 51,
   "id": "5267f9c5",
   "metadata": {},
   "outputs": [
    {
     "data": {
      "text/plain": [
       "RandomForestClassifier(criterion='entropy')"
      ]
     },
     "execution_count": 51,
     "metadata": {},
     "output_type": "execute_result"
    }
   ],
   "source": [
    "classifier.fit(scale_x_train,y_train)"
   ]
  },
  {
   "cell_type": "code",
   "execution_count": 52,
   "id": "7856230e",
   "metadata": {},
   "outputs": [],
   "source": [
    "y_pred_random_forest=classifier.predict(scale_x_test)"
   ]
  },
  {
   "cell_type": "code",
   "execution_count": 53,
   "id": "619a17c3",
   "metadata": {},
   "outputs": [
    {
     "data": {
      "text/plain": [
       "0.9585309363626338"
      ]
     },
     "execution_count": 53,
     "metadata": {},
     "output_type": "execute_result"
    }
   ],
   "source": [
    "accuracy_score(y_pred_random_forest,y_test)"
   ]
  },
  {
   "cell_type": "markdown",
   "id": "325dcbd5",
   "metadata": {},
   "source": [
    "### K-Nearest Neighbor "
   ]
  },
  {
   "cell_type": "code",
   "execution_count": 55,
   "id": "167b8f7b",
   "metadata": {},
   "outputs": [],
   "source": [
    "knn=KNeighborsClassifier(n_neighbors=7)"
   ]
  },
  {
   "cell_type": "code",
   "execution_count": 56,
   "id": "06078f44",
   "metadata": {},
   "outputs": [
    {
     "data": {
      "text/plain": [
       "KNeighborsClassifier(n_neighbors=7)"
      ]
     },
     "execution_count": 56,
     "metadata": {},
     "output_type": "execute_result"
    }
   ],
   "source": [
    "knn.fit(scale_x_train,y_train)"
   ]
  },
  {
   "cell_type": "code",
   "execution_count": 57,
   "id": "1df85c2a",
   "metadata": {},
   "outputs": [],
   "source": [
    "y_pred_knn_model=knn.predict(scale_x_test)"
   ]
  },
  {
   "cell_type": "code",
   "execution_count": 58,
   "id": "dcbb8dab",
   "metadata": {},
   "outputs": [
    {
     "data": {
      "text/plain": [
       "0.9185507885739495"
      ]
     },
     "execution_count": 58,
     "metadata": {},
     "output_type": "execute_result"
    }
   ],
   "source": [
    "accuracy_score(y_pred_knn_model,y_test)"
   ]
  },
  {
   "cell_type": "code",
   "execution_count": null,
   "id": "1a265804",
   "metadata": {},
   "outputs": [],
   "source": []
  }
 ],
 "metadata": {
  "kernelspec": {
   "display_name": "Python 3 (ipykernel)",
   "language": "python",
   "name": "python3"
  },
  "language_info": {
   "codemirror_mode": {
    "name": "ipython",
    "version": 3
   },
   "file_extension": ".py",
   "mimetype": "text/x-python",
   "name": "python",
   "nbconvert_exporter": "python",
   "pygments_lexer": "ipython3",
   "version": "3.9.13"
  }
 },
 "nbformat": 4,
 "nbformat_minor": 5
}
